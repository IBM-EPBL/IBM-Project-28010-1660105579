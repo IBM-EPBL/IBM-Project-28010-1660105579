{
  "cells": [
    {
      "cell_type": "markdown",
      "metadata": {
        "id": "1dnUiQGCLkHc"
      },
      "source": [
        "##TEST THE MODEL\n",
        "\n",
        "\n"
      ]
    },
    {
      "cell_type": "code",
      "execution_count": null,
      "metadata": {
        "id": "eWzt2n82H50m"
      },
      "outputs": [],
      "source": [
        "from tensorflow.keras.models import load_model\n",
        "from tensorflow.keras.preprocessing import image\n",
        "import numpy as np\n",
        "import cv2"
      ]
    },
    {
      "cell_type": "code",
      "execution_count": null,
      "metadata": {
        "id": "JTC-UdX0LtYA"
      },
      "outputs": [],
      "source": [
        "model = load_model('/content/aslmodel.h5')"
      ]
    },
    {
      "cell_type": "code",
      "execution_count": null,
      "metadata": {
        "colab": {
          "base_uri": "https://localhost:8080/",
          "height": 117
        },
        "id": "TKWIEDoHL1aT",
        "outputId": "71d185ae-6e32-4185-dbd1-10e412cddde0"
      },
      "outputs": [
        {
          "output_type": "execute_result",
          "data": {
            "text/plain": [
              "<PIL.Image.Image image mode=RGB size=100x100 at 0x7FE2AE2639D0>"
            ],
            "image/png": "[encoded data removed]"
          },
          "metadata": {},
          "execution_count": 23
        }
      ],
      "source": [
        "img = image.load_img('/content/Dataset/test_set/H/220.png',target_size = (100,100))\n",
        "img"
      ]
    },
    {
      "cell_type": "code",
      "execution_count": null,
      "metadata": {
        "id": "jflfQxF0VZqe"
      },
      "outputs": [],
      "source": [
        "from skimage.transform import resize\n",
        "def detect(frame):\n",
        "    img=image.img_to_array(frame)\n",
        "    img = resize(img,(64,64,1))\n",
        "    img = np.expand_dims(img,axis=0)\n",
        "    pred=np.argmax(model.predict(img))\n",
        "    op=['A','B','C','D','E','F','G','H','I']\n",
        "    print(\"THE PREDICTED LETTER IS \",op[pred])"
      ]
    },
    {
      "cell_type": "code",
      "execution_count": null,
      "metadata": {
        "colab": {
          "base_uri": "https://localhost:8080/"
        },
        "id": "xAEhpLN0XTQJ",
        "outputId": "8f2dac5d-dd78-4713-af51-6f143614501b"
      },
      "outputs": [
        {
          "output_type": "stream",
          "name": "stdout",
          "text": [
            "1/1 [==============================] - 0s 88ms/step\n",
            "THE PREDICTED LETTER IS  H\n"
          ]
        }
      ],
      "source": [
        "img=image.load_img(\"/content/Dataset/test_set/H/220.png\")\n",
        "detect(img)"
      ]
    },
    {
      "cell_type": "code",
      "execution_count": null,
      "metadata": {
        "colab": {
          "base_uri": "https://localhost:8080/"
        },
        "id": "bY4Rq7oaXdHt",
        "outputId": "fd5e417f-0b05-40b4-ca77-cbe658e438e2"
      },
      "outputs": [
        {
          "output_type": "stream",
          "name": "stdout",
          "text": [
            "1/1 [==============================] - 0s 32ms/step\n",
            "THE PREDICTED LETTER IS  A\n"
          ]
        }
      ],
      "source": [
        "img = image.load_img('/content/Dataset/test_set/A/15.png')\n",
        "pred=detect(img)"
      ]
    },
    {
      "cell_type": "code",
      "execution_count": null,
      "metadata": {
        "colab": {
          "base_uri": "https://localhost:8080/"
        },
        "id": "JcI8nejybLG8",
        "outputId": "3eb2f97d-9f1a-4ce4-a818-64764a4845dc"
      },
      "outputs": [
        {
          "output_type": "stream",
          "name": "stdout",
          "text": [
            "1/1 [==============================] - 0s 42ms/step\n",
            "THE PREDICTED LETTER IS  E\n"
          ]
        }
      ],
      "source": [
        "img=image.load_img('/content/Dataset/test_set/E/1.png')\n",
        "detect(img)"
      ]
    }
  ],
  "metadata": {
    "colab": {
      "provenance": []
    },
    "kernelspec": {
      "display_name": "Python 3",
      "name": "python3"
    },
    "language_info": {
      "name": "python"
    }
  },
  "nbformat": 4,
  "nbformat_minor": 0
}