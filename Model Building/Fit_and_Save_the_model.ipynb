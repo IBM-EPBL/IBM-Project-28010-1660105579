{
  "nbformat": 4,
  "nbformat_minor": 0,
  "metadata": {
    "colab": {
      "provenance": []
    },
    "kernelspec": {
      "name": "python3",
      "display_name": "Python 3"
    },
    "language_info": {
      "name": "python"
    }
  },
  "cells": [
    {
      "cell_type": "code",
      "execution_count": null,
      "metadata": {
        "id": "yhrkzc9ZpmOU"
      },
      "outputs": [],
      "source": [
        "from keras.preprocessing.image import ImageDataGenerator\n",
        "train_datagen=ImageDataGenerator(rescale=1./255,shear_range=0.2,zoom_range=0.2,horizontal_flip=True)\n",
        "test_datagen=ImageDataGenerator(rescale=1./255)"
      ]
    },
    {
      "cell_type": "code",
      "source": [
        "from google.colab import drive\n",
        "drive.mount('/content/drive')"
      ],
      "metadata": {
        "colab": {
          "base_uri": "https://localhost:8080/"
        },
        "id": "0wB-Kxh5UcJq",
        "outputId": "20d2e03e-87a2-4373-92cc-a9a2e3253174"
      },
      "execution_count": null,
      "outputs": [
        {
          "output_type": "stream",
          "name": "stdout",
          "text": [
            "Mounted at /content/drive\n"
          ]
        }
      ]
    },
    {
      "cell_type": "code",
      "source": [
        "x_train = train_datagen.flow_from_directory('/content/drive/MyDrive/Dataset/training_set',target_size=(64,64),batch_size=300,class_mode='categorical',color_mode=\"grayscale\")"
      ],
      "metadata": {
        "id": "911jlfgkNnqq",
        "colab": {
          "base_uri": "https://localhost:8080/"
        },
        "outputId": "74d7b53d-8a65-4660-bec3-a95ec35db809"
      },
      "execution_count": null,
      "outputs": [
        {
          "output_type": "stream",
          "name": "stdout",
          "text": [
            "Found 15750 images belonging to 9 classes.\n"
          ]
        }
      ]
    },
    {
      "cell_type": "code",
      "source": [
        "x_test = test_datagen.flow_from_directory('/content/drive/MyDrive/Dataset/test_set',target_size=(64,64),batch_size=300,class_mode='categorical',color_mode=\"grayscale\")"
      ],
      "metadata": {
        "colab": {
          "base_uri": "https://localhost:8080/"
        },
        "id": "0jQeqRgJQ_k3",
        "outputId": "6e7691ce-645d-4ebd-c868-c29f6b65f373"
      },
      "execution_count": null,
      "outputs": [
        {
          "output_type": "stream",
          "name": "stdout",
          "text": [
            "Found 2250 images belonging to 9 classes.\n"
          ]
        }
      ]
    },
    {
      "cell_type": "code",
      "source": [
        "from keras.models import Sequential\n",
        "from keras.layers import Dense\n",
        "from keras.layers import Convolution2D\n",
        "from keras.layers import MaxPooling2D\n",
        "from keras.layers import Dropout\n",
        "from keras.layers import Flatten"
      ],
      "metadata": {
        "id": "hENrq9luV5CV"
      },
      "execution_count": null,
      "outputs": []
    },
    {
      "cell_type": "code",
      "source": [
        "model = Sequential()"
      ],
      "metadata": {
        "id": "_Xog4wM-WHQL"
      },
      "execution_count": null,
      "outputs": []
    },
    {
      "cell_type": "code",
      "source": [
        "model.add(Convolution2D(32,(3,3),input_shape=(64,64,1), activation='relu'))\n",
        "#no. of feature detectors, size of feature detector, image size, activation function"
      ],
      "metadata": {
        "id": "IxBznrvkXOiQ"
      },
      "execution_count": null,
      "outputs": []
    },
    {
      "cell_type": "code",
      "source": [
        "model.add(MaxPooling2D(pool_size=(2,2)))"
      ],
      "metadata": {
        "id": "m9i6nyiiYAzH"
      },
      "execution_count": null,
      "outputs": []
    },
    {
      "cell_type": "code",
      "source": [
        "model.add(Flatten())"
      ],
      "metadata": {
        "id": "YrEJW7pAYFA4"
      },
      "execution_count": null,
      "outputs": []
    },
    {
      "cell_type": "code",
      "source": [
        "model.add(Dense(units=512, activation = 'relu'))"
      ],
      "metadata": {
        "id": "qIvMupXlYg8d"
      },
      "execution_count": null,
      "outputs": []
    },
    {
      "cell_type": "code",
      "source": [
        "model.add(Dense(units=9,  activation = 'softmax'))"
      ],
      "metadata": {
        "id": "BSaehFfcY4iz"
      },
      "execution_count": null,
      "outputs": []
    },
    {
      "cell_type": "code",
      "source": [
        "model.compile(loss='categorical_crossentropy', optimizer = 'adam', metrics = ['accuracy'])"
      ],
      "metadata": {
        "id": "Dq7W6q62Y9RC"
      },
      "execution_count": null,
      "outputs": []
    },
    {
      "cell_type": "code",
      "source": [
        "model.fit_generator(x_train,steps_per_epoch=24,epochs=10,validation_data = x_test, validation_steps= 40)\n",
        "#steps_per_epoch = no. of train images//batch size"
      ],
      "metadata": {
        "colab": {
          "base_uri": "https://localhost:8080/"
        },
        "id": "T530ZkC6ZSOk",
        "outputId": "109a8acc-3925-463c-acc0-065c4eb73ac2"
      },
      "execution_count": null,
      "outputs": [
        {
          "metadata": {
            "tags": null
          },
          "name": "stderr",
          "output_type": "stream",
          "text": [
            "/usr/local/lib/python3.7/dist-packages/ipykernel_launcher.py:1: UserWarning: `Model.fit_generator` is deprecated and will be removed in a future version. Please use `Model.fit`, which supports generators.\n",
            "  \"\"\"Entry point for launching an IPython kernel.\n"
          ]
        },
        {
          "metadata": {
            "tags": null
          },
          "name": "stdout",
          "output_type": "stream",
          "text": [
            "Epoch 1/10\n",
            "24/24 [==============================] - ETA: 0s - loss: 0.7714 - accuracy: 0.7442  "
          ]
        },
        {
          "metadata": {
            "tags": null
          },
          "name": "stderr",
          "output_type": "stream",
          "text": [
            "WARNING:tensorflow:Your input ran out of data; interrupting training. Make sure that your dataset or generator can generate at least `steps_per_epoch * epochs` batches (in this case, 40 batches). You may need to use the repeat() function when building your dataset.\n"
          ]
        },
        {
          "output_type": "stream",
          "name": "stdout",
          "text": [
            "24/24 [==============================] - 2691s 113s/step - loss: 0.7714 - accuracy: 0.7442 - val_loss: 0.3322 - val_accuracy: 0.9031\n",
            "Epoch 2/10\n",
            "24/24 [==============================] - 986s 41s/step - loss: 0.1882 - accuracy: 0.9488\n",
            "Epoch 3/10\n",
            "24/24 [==============================] - 521s 22s/step - loss: 0.0964 - accuracy: 0.9745\n",
            "Epoch 4/10\n",
            "24/24 [==============================] - 287s 12s/step - loss: 0.0617 - accuracy: 0.9819\n",
            "Epoch 5/10\n",
            "24/24 [==============================] - 154s 6s/step - loss: 0.0464 - accuracy: 0.9868\n",
            "Epoch 6/10\n",
            "24/24 [==============================] - 92s 4s/step - loss: 0.0332 - accuracy: 0.9928\n",
            "Epoch 7/10\n",
            "24/24 [==============================] - 63s 3s/step - loss: 0.0251 - accuracy: 0.9948\n",
            "Epoch 8/10\n",
            "24/24 [==============================] - 50s 2s/step - loss: 0.0176 - accuracy: 0.9964\n",
            "Epoch 9/10\n",
            "24/24 [==============================] - 42s 2s/step - loss: 0.0134 - accuracy: 0.9973\n",
            "Epoch 10/10\n",
            "24/24 [==============================] - 44s 2s/step - loss: 0.0143 - accuracy: 0.9967\n"
          ]
        },
        {
          "output_type": "execute_result",
          "data": {
            "text/plain": [
              "<keras.callbacks.History at 0x7f69bf6e3610>"
            ]
          },
          "metadata": {},
          "execution_count": 13
        }
      ]
    },
    {
      "cell_type": "code",
      "source": [
        "model.save('aslpng1.h5')"
      ],
      "metadata": {
        "id": "tbD4YC8VZlIB"
      },
      "execution_count": null,
      "outputs": []
    },
    {
      "cell_type": "code",
      "source": [],
      "metadata": {
        "id": "wBCEfO5qd0Gj"
      },
      "execution_count": null,
      "outputs": []
    }
  ]
}